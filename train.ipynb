{
  "cells": [
    {
      "cell_type": "code",
      "execution_count": null,
      "metadata": {
        "colab": {
          "base_uri": "https://localhost:8080/"
        },
        "id": "ZVSU6dQ-fYcq",
        "outputId": "104c0cb9-9ecb-4c62-d0fb-8ad3ae0d6ec2"
      },
      "outputs": [
        {
          "name": "stderr",
          "output_type": "stream",
          "text": [
            "[nltk_data] Downloading package stopwords to /root/nltk_data...\n",
            "[nltk_data]   Unzipping corpora/stopwords.zip.\n"
          ]
        },
        {
          "data": {
            "text/plain": [
              "True"
            ]
          },
          "execution_count": 2,
          "metadata": {},
          "output_type": "execute_result"
        }
      ],
      "source": [
        "# Importing necessary libraries\n",
        "import pandas as pd\n",
        "import numpy as np\n",
        "from nltk.corpus import stopwords\n",
        "from nltk.stem import PorterStemmer\n",
        "from nltk.tokenize import TweetTokenizer\n",
        "import re\n",
        "import matplotlib as plt\n",
        "\n",
        "\n",
        "from sklearn.feature_extraction.text import TfidfVectorizer, CountVectorizer\n",
        "from sklearn.svm import SVC\n",
        "from sklearn.model_selection import train_test_split, StratifiedKFold, cross_val_score\n",
        "from sklearn.pipeline import make_pipeline, Pipeline\n",
        "from sklearn.model_selection import GridSearchCV\n",
        "from sklearn.metrics import classification_report, make_scorer, accuracy_score, f1_score\n",
        "from sklearn.metrics import roc_curve, auc\n",
        "from sklearn.metrics import confusion_matrix, roc_auc_score, recall_score, precision_score\n",
        "import time\n",
        "from sklearn import svm\n",
        "\n",
        "import nltk\n",
        "nltk.download('stopwords')"
      ]
    },
    {
      "cell_type": "code",
      "execution_count": null,
      "metadata": {
        "colab": {
          "base_uri": "https://localhost:8080/"
        },
        "id": "ayNqgpIC3NXC",
        "outputId": "b2bb1180-24f4-4bd5-8084-88b8b7fbe9c2"
      },
      "outputs": [
        {
          "name": "stdout",
          "output_type": "stream",
          "text": [
            "Mounted at /content/drive\n"
          ]
        }
      ],
      "source": [
        "from google.colab import drive\n",
        "drive.mount('/content/drive')"
      ]
    },
    {
      "cell_type": "code",
      "execution_count": null,
      "metadata": {
        "id": "UprrX80bhNch"
      },
      "outputs": [],
      "source": [
        "# Importing dataset\n",
        "cols_list = [\"Polarity\", \"Text\"]\n",
        "data = pd.read_csv(r'/content/drive/MyDrive/data.csv', usecols = cols_list)\n",
        "# data"
      ]
    },
    {
      "cell_type": "code",
      "execution_count": null,
      "metadata": {
        "id": "zD5aOLtvICkJ"
      },
      "outputs": [],
      "source": [
        "data = data.drop_duplicates()"
      ]
    },
    {
      "cell_type": "code",
      "execution_count": null,
      "metadata": {
        "id": "d8gqwqqXyFoN"
      },
      "outputs": [],
      "source": [
        "plt.rcParams['font.sans-serif'] = ['Source Han Sans TW', 'sans-serif']"
      ]
    },
    {
      "cell_type": "code",
      "execution_count": null,
      "metadata": {
        "id": "ojHL9aYIJpf8"
      },
      "outputs": [],
      "source": [
        "import seaborn as sns\n",
        "sns.countplot(data = data, x = 'Polarity')"
      ]
    },
    {
      "cell_type": "code",
      "execution_count": null,
      "metadata": {
        "id": "hOXRBma_6oVj"
      },
      "outputs": [],
      "source": [
        "# Clean and process tweets\n",
        "# stemmer = PorterStemmer()\n",
        "\n",
        "def clean_tweet(tweet):\n",
        "    if type(tweet) == float:\n",
        "        return \"\"\n",
        "    temp = tweet.lower()\n",
        "    temp = re.sub(\"'\", \"\", temp)  # to avoid removing contractions in english\n",
        "    temp = re.sub(\"@[A-Za-z0-9_]+\", \"\", temp)  # remove mentions\n",
        "    temp = re.sub(\"#[A-Za-z0-9_]+\", \"\", temp)  # remove hashtags\n",
        "    temp = re.sub(r'http\\S+', '', temp)  # remove urls\n",
        "    temp = re.sub('[()!?]', ' ', temp)  # remove special characters\n",
        "    temp = re.sub('\\[.*?\\]', ' ', temp)\n",
        "    temp = re.sub(\"[^a-z0-9]\", \" \", temp)  # convert all to lower case\n",
        "    temp = temp.split()\n",
        "    temp = [w for w in temp if not w in stopwords.words('english')]\n",
        "    # temp = [stemmer.stem(word) for word in tweet]\n",
        "    temp = \" \".join(word for word in temp)\n",
        "    return temp\n",
        "data['Text'] = data['Text'].apply(clean_tweet)\n",
        "# data"
      ]
    },
    {
      "cell_type": "markdown",
      "metadata": {
        "id": "XF-O_zcT7FSV"
      },
      "source": [
        "Tweet length distribution"
      ]
    },
    {
      "cell_type": "code",
      "execution_count": null,
      "metadata": {
        "id": "P2_ExD2w23WQ"
      },
      "outputs": [],
      "source": [
        "!pip install plotly_express"
      ]
    },
    {
      "cell_type": "code",
      "execution_count": null,
      "metadata": {
        "id": "633HmNLz1iCI"
      },
      "outputs": [],
      "source": [
        "import plotly_express as px\n",
        "data[\"tweet_length\"] = data.Text.map(lambda x: len(x))\n",
        "px.histogram(data[data[\"tweet_length\"] < 1000], x=\"tweet_length\", color=\"Polarity\", title=\"Twitters Length Distribution Plot\")\n"
      ]
    },
    {
      "cell_type": "markdown",
      "metadata": {
        "id": "WJFENw_PmrzA"
      },
      "source": [
        "Data length distribution"
      ]
    },
    {
      "cell_type": "code",
      "execution_count": null,
      "metadata": {
        "id": "8pQF_trUmn1L"
      },
      "outputs": [],
      "source": [
        "px.histogram(df[df[\"tweet_length\"] < 1000], x=\"tweet_length\", color=\"cyberbullying_type\", title=\"Twitters Length Distribution Plot\")"
      ]
    },
    {
      "cell_type": "markdown",
      "metadata": {
        "id": "Gcdcz3TT68IX"
      },
      "source": [
        "Visualizing contents of tweets"
      ]
    },
    {
      "cell_type": "code",
      "execution_count": null,
      "metadata": {
        "id": "BRzUkpyt5pKf"
      },
      "outputs": [],
      "source": [
        "import matplotlib.pyplot as plt\n",
        "from wordcloud import WordCloud\n",
        "def display_word_cloud(field_name, title):\n",
        "    words = data[data['Polarity'] == field_name].Text\n",
        "    cloud = WordCloud(background_color='black', width=2000, height=1000, colormap=\"viridis\", collocations=False).generate(\" \".join(words))\n",
        "    # plt.axis('off')\n",
        "    plt.title(title,fontsize=40)\n",
        "    plt.imshow(cloud)\n",
        "display_word_cloud(\"gender\", \"Gender\")"
      ]
    },
    {
      "cell_type": "code",
      "execution_count": null,
      "metadata": {
        "id": "37tcyCMb6zx6"
      },
      "outputs": [],
      "source": [
        "display_word_cloud(\"age\", \"Age\")"
      ]
    },
    {
      "cell_type": "code",
      "execution_count": null,
      "metadata": {
        "id": "6v-W8LZw64YB"
      },
      "outputs": [],
      "source": [
        "display_word_cloud(\"ethnicity\", \"Ethnicity\")"
      ]
    },
    {
      "cell_type": "code",
      "execution_count": null,
      "metadata": {
        "id": "dDC2cq0x7TFV"
      },
      "outputs": [],
      "source": [
        "display_word_cloud(\"religion\", \"Religion\")"
      ]
    },
    {
      "cell_type": "code",
      "execution_count": null,
      "metadata": {
        "id": "WfnsFdG67W8z"
      },
      "outputs": [],
      "source": [
        "display_word_cloud(\"other_cyberbullying\", \"Other Cyberbullying\")"
      ]
    },
    {
      "cell_type": "code",
      "execution_count": null,
      "metadata": {
        "id": "69chmVxh7b0l"
      },
      "outputs": [],
      "source": [
        "display_word_cloud(\"not_cyberbullying\", \"Not Cyberbullying\")"
      ]
    },
    {
      "cell_type": "markdown",
      "metadata": {
        "id": "1GLFUOr57c_l"
      },
      "source": [
        "Classification"
      ]
    },
    {
      "cell_type": "code",
      "execution_count": null,
      "metadata": {
        "id": "OwHSettXj8hA"
      },
      "outputs": [],
      "source": [
        "# Distinguish tweets with positive and negative sentiments\n",
        "data['Polarity'] = data['Polarity'].apply(lambda x: 1 if x == 'positive' else 0)"
      ]
    },
    {
      "cell_type": "code",
      "execution_count": null,
      "metadata": {
        "id": "5rB_Zn1rmxlB"
      },
      "outputs": [],
      "source": [
        "data = data.loc[:, ['Text', 'Polarity']]"
      ]
    },
    {
      "cell_type": "code",
      "execution_count": null,
      "metadata": {
        "id": "0-bl8ARfXVW7"
      },
      "outputs": [],
      "source": [
        "# tokenization\n",
        "tknzr = TweetTokenizer()\n",
        "data[\"tokenized\"] = [tknzr.tokenize(i) for i in data['Text']]"
      ]
    },
    {
      "cell_type": "code",
      "execution_count": null,
      "metadata": {
        "id": "23GnYUx5m5ci"
      },
      "outputs": [],
      "source": [
        "# split data into train and test sets\n",
        "train, test = train_test_split(data, test_size=0.2, random_state=1)\n",
        "X_train = train['Text'].values\n",
        "X_test = test['Text'].values\n",
        "y_train = train['Polarity']\n",
        "y_test = test['Polarity']"
      ]
    },
    {
      "cell_type": "code",
      "execution_count": null,
      "metadata": {
        "id": "fokTv3BinUiv"
      },
      "outputs": [],
      "source": [
        "# vectorization\n",
        "# vectorizer = TfidfVectorizer(min_df=5,\n",
        "#                              max_df=0.8,\n",
        "#                              sublinear_tf=True,\n",
        "#                              use_idf=True)\n",
        "\n",
        "vectorizer = CountVectorizer(\n",
        "    analyzer = 'word',\n",
        "    # tokenizer = tokenize,\n",
        "    lowercase = True,\n",
        "    ngram_range=(1, 1))\n",
        "    # stop_words = en_stopwords)\n",
        "train_vectors = vectorizer.fit_transform(train['Text'])\n",
        "test_vectors = vectorizer.transform(test['Text'])"
      ]
    },
    {
      "cell_type": "code",
      "execution_count": null,
      "metadata": {
        "id": "Crh9gIcHbG-A"
      },
      "outputs": [],
      "source": [
        "print(train_vectors)"
      ]
    },
    {
      "cell_type": "code",
      "execution_count": null,
      "metadata": {
        "colab": {
          "background_save": true,
          "base_uri": "https://localhost:8080/"
        },
        "id": "N9ohl7-cnhhr",
        "outputId": "aeda08e9-7c27-4436-f2f2-7bf59fa5a360"
      },
      "outputs": [
        {
          "name": "stdout",
          "output_type": "stream",
          "text": [
            "Fitting 5 folds for each of 3 candidates, totalling 15 fits\n"
          ]
        },
        {
          "data": {
            "text/plain": [
              "0.8233265590705294"
            ]
          },
          "execution_count": null,
          "metadata": {},
          "output_type": "execute_result"
        }
      ],
      "source": [
        "kfolds = StratifiedKFold(n_splits=5, shuffle=True, random_state=1)\n",
        "np.random.seed(1)\n",
        "\n",
        "pipeline_svm = make_pipeline(vectorizer,\n",
        "                            SVC(probability=True, kernel=\"linear\", class_weight=\"balanced\"))\n",
        "\n",
        "grid_svm = GridSearchCV(pipeline_svm,\n",
        "                    param_grid = {'svc__C': [0.01, 0.1, 1]},\n",
        "                    cv = kfolds,\n",
        "                    scoring=\"roc_auc\",\n",
        "                    verbose=1,\n",
        "                    n_jobs=-1)\n",
        "\n",
        "grid_svm.fit(X_train, y_train)\n",
        "grid_svm.score(X_test, y_test)"
      ]
    },
    {
      "cell_type": "code",
      "execution_count": null,
      "metadata": {
        "colab": {
          "base_uri": "https://localhost:8080/"
        },
        "id": "gqhB3CdmnuH2",
        "outputId": "16b43128-f93c-4c4d-a095-a34464fff84b"
      },
      "outputs": [
        {
          "data": {
            "text/plain": [
              "{'svc__C': 0.1}"
            ]
          },
          "execution_count": 36,
          "metadata": {},
          "output_type": "execute_result"
        }
      ],
      "source": [
        "grid_svm.best_params_"
      ]
    },
    {
      "cell_type": "code",
      "execution_count": null,
      "metadata": {
        "colab": {
          "base_uri": "https://localhost:8080/"
        },
        "id": "yqGrxe4Ctqzj",
        "outputId": "7596d903-600d-4668-87f9-495828689b01"
      },
      "outputs": [
        {
          "data": {
            "text/plain": [
              "0.8861713445219085"
            ]
          },
          "execution_count": 37,
          "metadata": {},
          "output_type": "execute_result"
        }
      ],
      "source": [
        "grid_svm.best_score_"
      ]
    },
    {
      "cell_type": "code",
      "execution_count": null,
      "metadata": {
        "id": "R1LJrTFit4Mg"
      },
      "outputs": [],
      "source": [
        "def report_results(model, X, y):\n",
        "    pred_proba = model.predict_proba(X)[:, 1]\n",
        "    pred = model.predict(X)\n",
        "\n",
        "    auc = roc_auc_score(y, pred_proba)\n",
        "    result = {'auc': auc}\n",
        "    return result"
      ]
    },
    {
      "cell_type": "code",
      "execution_count": null,
      "metadata": {
        "colab": {
          "base_uri": "https://localhost:8080/"
        },
        "id": "65lmyUihUIvB",
        "outputId": "53eee5a4-5b53-4741-f0d5-78222ee0bae4"
      },
      "outputs": [
        {
          "data": {
            "text/plain": [
              "{'acc': 0.7724217601344255,\n",
              " 'auc': 0.8890636064898677,\n",
              " 'f1': 0.5721618953603159,\n",
              " 'precision': 0.4143551615670575,\n",
              " 'recall': 0.9241071428571429}"
            ]
          },
          "execution_count": 39,
          "metadata": {},
          "output_type": "execute_result"
        }
      ],
      "source": [
        "report_results(grid_svm.best_estimator_,  X_test, y_test)"
      ]
    },
    {
      "cell_type": "code",
      "execution_count": null,
      "metadata": {
        "colab": {
          "base_uri": "https://localhost:8080/"
        },
        "id": "_Ws4gZcy2BsT",
        "outputId": "e4f40e72-2c49-4417-a181-0aa3f1ebcc8f"
      },
      "outputs": [
        {
          "data": {
            "text/plain": [
              "array([1, 1, 0, ..., 0, 0, 0])"
            ]
          },
          "execution_count": 40,
          "metadata": {},
          "output_type": "execute_result"
        }
      ],
      "source": [
        "# y_predict = report_results(grid_svm.best_estimator_,  X_test, y_test)\n",
        "y_predict = grid_svm.predict(X_test)\n",
        "y_predict\n"
      ]
    },
    {
      "cell_type": "code",
      "execution_count": null,
      "metadata": {
        "colab": {
          "base_uri": "https://localhost:8080/",
          "height": 112
        },
        "id": "Kqt_S59JNvrq",
        "outputId": "e17c0c3e-3b4f-41d0-ff1c-e99599691c67"
      },
      "outputs": [
        {
          "data": {
            "text/html": [
              "\n",
              "  <div id=\"df-8f5fb157-9468-4e7b-860f-95d21e37f0d7\">\n",
              "    <div class=\"colab-df-container\">\n",
              "      <div>\n",
              "<style scoped>\n",
              "    .dataframe tbody tr th:only-of-type {\n",
              "        vertical-align: middle;\n",
              "    }\n",
              "\n",
              "    .dataframe tbody tr th {\n",
              "        vertical-align: top;\n",
              "    }\n",
              "\n",
              "    .dataframe thead th {\n",
              "        text-align: right;\n",
              "    }\n",
              "</style>\n",
              "<table border=\"1\" class=\"dataframe\">\n",
              "  <thead>\n",
              "    <tr style=\"text-align: right;\">\n",
              "      <th></th>\n",
              "      <th>predicted_cyberbullying</th>\n",
              "      <th>predicted_not_cyberbullying</th>\n",
              "    </tr>\n",
              "  </thead>\n",
              "  <tbody>\n",
              "    <tr>\n",
              "      <th>cyberbullying</th>\n",
              "      <td>5906</td>\n",
              "      <td>2048</td>\n",
              "    </tr>\n",
              "    <tr>\n",
              "      <th>not_cyberbullying</th>\n",
              "      <td>119</td>\n",
              "      <td>1449</td>\n",
              "    </tr>\n",
              "  </tbody>\n",
              "</table>\n",
              "</div>\n",
              "      <button class=\"colab-df-convert\" onclick=\"convertToInteractive('df-8f5fb157-9468-4e7b-860f-95d21e37f0d7')\"\n",
              "              title=\"Convert this dataframe to an interactive table.\"\n",
              "              style=\"display:none;\">\n",
              "        \n",
              "  <svg xmlns=\"http://www.w3.org/2000/svg\" height=\"24px\"viewBox=\"0 0 24 24\"\n",
              "       width=\"24px\">\n",
              "    <path d=\"M0 0h24v24H0V0z\" fill=\"none\"/>\n",
              "    <path d=\"M18.56 5.44l.94 2.06.94-2.06 2.06-.94-2.06-.94-.94-2.06-.94 2.06-2.06.94zm-11 1L8.5 8.5l.94-2.06 2.06-.94-2.06-.94L8.5 2.5l-.94 2.06-2.06.94zm10 10l.94 2.06.94-2.06 2.06-.94-2.06-.94-.94-2.06-.94 2.06-2.06.94z\"/><path d=\"M17.41 7.96l-1.37-1.37c-.4-.4-.92-.59-1.43-.59-.52 0-1.04.2-1.43.59L10.3 9.45l-7.72 7.72c-.78.78-.78 2.05 0 2.83L4 21.41c.39.39.9.59 1.41.59.51 0 1.02-.2 1.41-.59l7.78-7.78 2.81-2.81c.8-.78.8-2.07 0-2.86zM5.41 20L4 18.59l7.72-7.72 1.47 1.35L5.41 20z\"/>\n",
              "  </svg>\n",
              "      </button>\n",
              "      \n",
              "  <style>\n",
              "    .colab-df-container {\n",
              "      display:flex;\n",
              "      flex-wrap:wrap;\n",
              "      gap: 12px;\n",
              "    }\n",
              "\n",
              "    .colab-df-convert {\n",
              "      background-color: #E8F0FE;\n",
              "      border: none;\n",
              "      border-radius: 50%;\n",
              "      cursor: pointer;\n",
              "      display: none;\n",
              "      fill: #1967D2;\n",
              "      height: 32px;\n",
              "      padding: 0 0 0 0;\n",
              "      width: 32px;\n",
              "    }\n",
              "\n",
              "    .colab-df-convert:hover {\n",
              "      background-color: #E2EBFA;\n",
              "      box-shadow: 0px 1px 2px rgba(60, 64, 67, 0.3), 0px 1px 3px 1px rgba(60, 64, 67, 0.15);\n",
              "      fill: #174EA6;\n",
              "    }\n",
              "\n",
              "    [theme=dark] .colab-df-convert {\n",
              "      background-color: #3B4455;\n",
              "      fill: #D2E3FC;\n",
              "    }\n",
              "\n",
              "    [theme=dark] .colab-df-convert:hover {\n",
              "      background-color: #434B5C;\n",
              "      box-shadow: 0px 1px 3px 1px rgba(0, 0, 0, 0.15);\n",
              "      filter: drop-shadow(0px 1px 2px rgba(0, 0, 0, 0.3));\n",
              "      fill: #FFFFFF;\n",
              "    }\n",
              "  </style>\n",
              "\n",
              "      <script>\n",
              "        const buttonEl =\n",
              "          document.querySelector('#df-8f5fb157-9468-4e7b-860f-95d21e37f0d7 button.colab-df-convert');\n",
              "        buttonEl.style.display =\n",
              "          google.colab.kernel.accessAllowed ? 'block' : 'none';\n",
              "\n",
              "        async function convertToInteractive(key) {\n",
              "          const element = document.querySelector('#df-8f5fb157-9468-4e7b-860f-95d21e37f0d7');\n",
              "          const dataTable =\n",
              "            await google.colab.kernel.invokeFunction('convertToInteractive',\n",
              "                                                     [key], {});\n",
              "          if (!dataTable) return;\n",
              "\n",
              "          const docLinkHtml = 'Like what you see? Visit the ' +\n",
              "            '<a target=\"_blank\" href=https://colab.research.google.com/notebooks/data_table.ipynb>data table notebook</a>'\n",
              "            + ' to learn more about interactive tables.';\n",
              "          element.innerHTML = '';\n",
              "          dataTable['output_type'] = 'display_data';\n",
              "          await google.colab.output.renderOutput(dataTable, element);\n",
              "          const docLink = document.createElement('div');\n",
              "          docLink.innerHTML = docLinkHtml;\n",
              "          element.appendChild(docLink);\n",
              "        }\n",
              "      </script>\n",
              "    </div>\n",
              "  </div>\n",
              "  "
            ],
            "text/plain": [
              "                   predicted_cyberbullying  predicted_not_cyberbullying\n",
              "cyberbullying                         5906                         2048\n",
              "not_cyberbullying                      119                         1449"
            ]
          },
          "execution_count": 41,
          "metadata": {},
          "output_type": "execute_result"
        }
      ],
      "source": [
        "from sklearn.metrics import confusion_matrix\n",
        "cm = confusion_matrix(y_test, y_predict)\n",
        "cm\n",
        "confusion = pd.DataFrame(cm, index=['cyberbullying', 'not_cyberbullying'],\n",
        "                         columns=['predicted_cyberbullying', 'predicted_not_cyberbullying'])\n",
        "confusion"
      ]
    },
    {
      "cell_type": "code",
      "execution_count": null,
      "metadata": {
        "colab": {
          "base_uri": "https://localhost:8080/",
          "height": 283
        },
        "id": "dcnAcvxYK6hW",
        "outputId": "88235607-dc2c-4b44-d18a-1b7a1cba7a30"
      },
      "outputs": [
        {
          "data": {
            "text/plain": [
              "<matplotlib.axes._subplots.AxesSubplot at 0x7f98dc6dc5d0>"
            ]
          },
          "execution_count": 42,
          "metadata": {},
          "output_type": "execute_result"
        },
        {
          "data": {
            "image/png": "[encoded data removed]",
            "text/plain": [
              "<Figure size 432x288 with 2 Axes>"
            ]
          },
          "metadata": {},
          "output_type": "display_data"
        }
      ],
      "source": [
        "import seaborn as sns\n",
        "sns.heatmap(confusion, annot=True)"
      ]
    },
    {
      "cell_type": "code",
      "execution_count": null,
      "metadata": {
        "id": "0Cn7zcKdhpEy"
      },
      "outputs": [],
      "source": [
        "def get_roc_curve(model, X, y):\n",
        "  pred_proba = model.predict_proba(X)[:, 1]\n",
        "  fpr, tpr, _ = roc_curve(y, pred_proba)\n",
        "  return fpr, tpr"
      ]
    },
    {
      "cell_type": "code",
      "execution_count": null,
      "metadata": {
        "id": "4xLdMU5DiQGS"
      },
      "outputs": [],
      "source": [
        "roc_svm = get_roc_curve(grid_svm.best_estimator_, X_test, y_test)\n"
      ]
    },
    {
      "cell_type": "code",
      "execution_count": null,
      "metadata": {
        "colab": {
          "base_uri": "https://localhost:8080/",
          "height": 513
        },
        "id": "VVHTZHTsi3N1",
        "outputId": "72555973-2d32-46b9-c783-378c1e076690"
      },
      "outputs": [
        {
          "data": {
            "image/png": "[encoded data removed]",
            "text/plain": [
              "<Figure size 1008x576 with 1 Axes>"
            ]
          },
          "metadata": {},
          "output_type": "display_data"
        }
      ],
      "source": [
        "import matplotlib.pyplot as plt\n",
        "fpr, tpr = roc_svm\n",
        "plt.figure(figsize = (14,8))\n",
        "plt.plot(fpr, tpr, color=\"red\")\n",
        "plt.plot([0, 1], [0, 1], color=\"black\", lw=2, linestyle='--')\n",
        "plt.xlim([0.0, 1.0])\n",
        "plt.ylim([0.0, 1.05])\n",
        "plt.xlabel('False Positive Rate')\n",
        "plt.ylabel('True Positive Rate')\n",
        "plt.title('Roc curve')\n",
        "plt.show()"
      ]
    },
    {
      "cell_type": "code",
      "execution_count": null,
      "metadata": {
        "colab": {
          "background_save": true,
          "base_uri": "https://localhost:8080/"
        },
        "id": "BNXAOZhgkKMu",
        "outputId": "85b8edae-f7ad-4da5-b243-47553c8f4a2d"
      },
      "outputs": [
        {
          "name": "stderr",
          "output_type": "stream",
          "text": [
            "/usr/local/lib/python3.7/dist-packages/joblib/externals/loky/process_executor.py:705: UserWarning: A worker stopped while some jobs were given to the executor. This can be caused by a too short worker timeout or by a memory leak.\n",
            "  \"timeout or by a memory leak.\", UserWarning\n"
          ]
        }
      ],
      "source": [
        "from sklearn.model_selection import learning_curve\n",
        "train_sizes, train_scores, test_scores = \\\n",
        "    learning_curve(grid_svm.best_estimator_, X_train, y_train, cv=5, n_jobs=-1,\n",
        "                   scoring=\"roc_auc\", train_sizes=np.linspace(.1, 1.0, 10), random_state=1)"
      ]
    },
    {
      "cell_type": "code",
      "execution_count": null,
      "metadata": {
        "id": "-EcK0TA1lhAX"
      },
      "outputs": [],
      "source": [
        "import matplotlib.pyplot as plt\n",
        "def plot_learning_curve(X, y, train_sizes, train_scores, test_scores, title='', ylim=None, figsize=(14,8)):\n",
        "    plt.figure(figsize=figsize)\n",
        "    plt.title(title)\n",
        "    if ylim is not None:\n",
        "        plt.ylim(*ylim)\n",
        "    plt.xlabel(\"Training examples\")\n",
        "    plt.ylabel(\"Score\")\n",
        "    train_scores_mean = np.mean(train_scores, axis=1)\n",
        "    train_scores_std = np.std(train_scores, axis=1)\n",
        "    test_scores_mean = np.mean(test_scores, axis=1)\n",
        "    test_scores_std = np.std(test_scores, axis=1)\n",
        "    plt.grid()\n",
        "    plt.fill_between(train_sizes, train_scores_mean - train_scores_std, train_scores_mean + train_scores_std, alpha=0.1, color=\"r\")\n",
        "    plt.fill_between(train_sizes, test_scores_mean - test_scores_std, test_scores_mean + test_scores_std, alpha=0.1, color=\"g\")\n",
        "    plt.plot(train_sizes, train_scores_mean, 'o-', color=\"r\", label=\"Training score\")\n",
        "    plt.plot(train_sizes, test_scores_mean, 'o-', color=\"g\", label=\"Cross-validation score\")\n",
        "    plt.legend(loc=\"lower right\")\n",
        "    return plt\n"
      ]
    },
    {
      "cell_type": "code",
      "execution_count": null,
      "metadata": {
        "colab": {
          "base_uri": "https://localhost:8080/",
          "height": 388
        },
        "id": "aknDUuOvvXLD",
        "outputId": "5c9aa5c3-f73b-4d37-f90b-92eaca6a9e13"
      },
      "outputs": [
        {
          "data": {
            "image/png": "[encoded data removed]",
            "text/plain": [
              "<Figure size 1008x432 with 1 Axes>"
            ]
          },
          "metadata": {},
          "output_type": "display_data"
        }
      ],
      "source": [
        "plot_learning_curve(X_train, y_train, train_sizes, train_scores, test_scores, ylim=(0.7, 1.01), figsize=(14,6))\n",
        "plt.show()"
      ]
    },
    {
      "cell_type": "code",
      "execution_count": null,
      "metadata": {
        "id": "jatAqcZPyca0"
      },
      "outputs": [],
      "source": [
        "if grid_svm.predict == 1:\n",
        "  print(\"This statement is positive\")\n",
        "else:\n",
        "  print(\"This statement is negative\")"
      ]
    },
    {
      "cell_type": "code",
      "execution_count": null,
      "metadata": {
        "colab": {
          "base_uri": "https://localhost:8080/"
        },
        "id": "Y5GQ0mC5z8bB",
        "outputId": "31aabdea-9c9d-4b33-f1a5-337a10436824"
      },
      "outputs": [
        {
          "data": {
            "text/plain": [
              "array([0])"
            ]
          },
          "execution_count": 22,
          "metadata": {},
          "output_type": "execute_result"
        }
      ],
      "source": [
        "grid_svm.predict([\" Fuck you \"])"
      ]
    },
    {
      "cell_type": "code",
      "execution_count": null,
      "metadata": {
        "colab": {
          "base_uri": "https://localhost:8080/"
        },
        "id": "Czmj3RQ20Dxk",
        "outputId": "05f8aac0-7a6a-4c3c-a0a7-2a959083057a"
      },
      "outputs": [
        {
          "data": {
            "text/plain": [
              "array([0])"
            ]
          },
          "execution_count": 34,
          "metadata": {},
          "output_type": "execute_result"
        }
      ],
      "source": [
        "grid_svm.predict([\"I hate you\"])"
      ]
    },
    {
      "cell_type": "code",
      "execution_count": null,
      "metadata": {
        "colab": {
          "base_uri": "https://localhost:8080/"
        },
        "id": "chnyiPMO0PZJ",
        "outputId": "f1c4e728-a51a-4c63-84ea-c4b5b45fb689"
      },
      "outputs": [
        {
          "data": {
            "text/plain": [
              "array([1])"
            ]
          },
          "execution_count": 22,
          "metadata": {},
          "output_type": "execute_result"
        }
      ],
      "source": [
        "grid_svm.predict([\"I love you\"])"
      ]
    },
    {
      "cell_type": "code",
      "execution_count": null,
      "metadata": {
        "colab": {
          "base_uri": "https://localhost:8080/"
        },
        "id": "wMJCMjw2qSWd",
        "outputId": "dcaa5944-5f22-46b8-afcb-5b1b0ce24fb9"
      },
      "outputs": [
        {
          "data": {
            "text/plain": [
              "array([1])"
            ]
          },
          "execution_count": 14,
          "metadata": {},
          "output_type": "execute_result"
        }
      ],
      "source": [
        "grid_svm.predict([\"You look great\"])"
      ]
    },
    {
      "cell_type": "code",
      "execution_count": null,
      "metadata": {
        "colab": {
          "base_uri": "https://localhost:8080/"
        },
        "id": "HtcPRPQTj-MD",
        "outputId": "9f9e8471-fef7-4600-af1c-b9bd2d374422"
      },
      "outputs": [
        {
          "data": {
            "text/plain": [
              "array([0])"
            ]
          },
          "execution_count": 15,
          "metadata": {},
          "output_type": "execute_result"
        }
      ],
      "source": [
        "grid_svm.predict([\"Son of a b*tch\"])"
      ]
    },
    {
      "cell_type": "code",
      "execution_count": null,
      "metadata": {
        "colab": {
          "base_uri": "https://localhost:8080/"
        },
        "id": "vcmVxxj1-6m-",
        "outputId": "21672abe-69b6-486b-9abb-d48f865fcb90"
      },
      "outputs": [
        {
          "data": {
            "text/plain": [
              "array([0])"
            ]
          },
          "execution_count": 16,
          "metadata": {},
          "output_type": "execute_result"
        }
      ],
      "source": [
        "grid_svm.predict([\"Suck my d*ck\"])"
      ]
    },
    {
      "cell_type": "code",
      "execution_count": null,
      "metadata": {
        "colab": {
          "base_uri": "https://localhost:8080/"
        },
        "id": "J-n3vVJO_Av_",
        "outputId": "4740488d-3c48-430e-fba3-d08d371a15a8"
      },
      "outputs": [
        {
          "data": {
            "text/plain": [
              "array([1])"
            ]
          },
          "execution_count": 17,
          "metadata": {},
          "output_type": "execute_result"
        }
      ],
      "source": [
        "grid_svm.predict([\"do you believe in life after death?\"])"
      ]
    },
    {
      "cell_type": "code",
      "execution_count": null,
      "metadata": {
        "id": "ywNsyBIyCGX2"
      },
      "outputs": [],
      "source": []
    }
  ],
  "metadata": {
    "colab": {
      "provenance": []
    },
    "gpuClass": "standard",
    "kernelspec": {
      "display_name": "Python 3",
      "name": "python3"
    },
    "language_info": {
      "name": "python"
    }
  },
  "nbformat": 4,
  "nbformat_minor": 0
}